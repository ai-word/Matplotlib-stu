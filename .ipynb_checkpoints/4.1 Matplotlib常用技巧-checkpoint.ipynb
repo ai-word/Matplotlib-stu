{
 "cells": [
  {
   "cell_type": "markdown",
   "metadata": {},
   "source": [
    "本节主要讲Matplotlib的一些常用习惯和技巧\n",
    "\n",
    "1、导入\n",
    "\n",
    "2、样式设置\n",
    "\n",
    "3、show问题：\n",
    "    a、文件中：要\n",
    "    b、ipython shell：看模式%matplotlib\n",
    "    c、ipython notebook：\n",
    "        aa、%matplotlib notebook：交互\n",
    "        bb、%matplotlib inline：静态\n",
    "\n",
    "4、保存图片："
   ]
  },
  {
   "cell_type": "code",
   "execution_count": null,
   "metadata": {},
   "outputs": [],
   "source": [
    "import matplotlib.pyplot as plt\n",
    "import numpy as np"
   ]
  }
 ],
 "metadata": {
  "kernelspec": {
   "display_name": "Python 3",
   "language": "python",
   "name": "python3"
  },
  "language_info": {
   "codemirror_mode": {
    "name": "ipython",
    "version": 3
   },
   "file_extension": ".py",
   "mimetype": "text/x-python",
   "name": "python",
   "nbconvert_exporter": "python",
   "pygments_lexer": "ipython3",
   "version": "3.6.6"
  }
 },
 "nbformat": 4,
 "nbformat_minor": 2
}
